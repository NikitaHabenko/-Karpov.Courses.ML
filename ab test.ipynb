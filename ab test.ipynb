{
 "cells": [
  {
   "cell_type": "code",
   "execution_count": 1,
   "id": "aeee4dbd-b55f-4b9c-8afd-07e23c50e330",
   "metadata": {},
   "outputs": [],
   "source": [
    "import pandas as pd"
   ]
  },
  {
   "cell_type": "code",
   "execution_count": 2,
   "id": "153236ba-d066-4ef8-a0fb-78e10b362091",
   "metadata": {},
   "outputs": [],
   "source": [
    "likes = pd.read_csv('likes.csv')\n",
    "views = pd.read_csv('views.csv')"
   ]
  },
  {
   "cell_type": "code",
   "execution_count": 3,
   "id": "04bd8b3b-a044-46e0-a8c4-1224953251a0",
   "metadata": {},
   "outputs": [
    {
     "data": {
      "text/html": [
       "<div>\n",
       "<style scoped>\n",
       "    .dataframe tbody tr th:only-of-type {\n",
       "        vertical-align: middle;\n",
       "    }\n",
       "\n",
       "    .dataframe tbody tr th {\n",
       "        vertical-align: top;\n",
       "    }\n",
       "\n",
       "    .dataframe thead th {\n",
       "        text-align: right;\n",
       "    }\n",
       "</style>\n",
       "<table border=\"1\" class=\"dataframe\">\n",
       "  <thead>\n",
       "    <tr style=\"text-align: right;\">\n",
       "      <th></th>\n",
       "      <th>user_id</th>\n",
       "      <th>post_id</th>\n",
       "      <th>timestamp</th>\n",
       "    </tr>\n",
       "  </thead>\n",
       "  <tbody>\n",
       "    <tr>\n",
       "      <th>0</th>\n",
       "      <td>128381</td>\n",
       "      <td>4704</td>\n",
       "      <td>1654030804</td>\n",
       "    </tr>\n",
       "    <tr>\n",
       "      <th>1</th>\n",
       "      <td>146885</td>\n",
       "      <td>1399</td>\n",
       "      <td>1654030816</td>\n",
       "    </tr>\n",
       "    <tr>\n",
       "      <th>2</th>\n",
       "      <td>50948</td>\n",
       "      <td>2315</td>\n",
       "      <td>1654030828</td>\n",
       "    </tr>\n",
       "    <tr>\n",
       "      <th>3</th>\n",
       "      <td>14661</td>\n",
       "      <td>673</td>\n",
       "      <td>1654030831</td>\n",
       "    </tr>\n",
       "    <tr>\n",
       "      <th>4</th>\n",
       "      <td>37703</td>\n",
       "      <td>1588</td>\n",
       "      <td>1654030833</td>\n",
       "    </tr>\n",
       "  </tbody>\n",
       "</table>\n",
       "</div>"
      ],
      "text/plain": [
       "   user_id  post_id   timestamp\n",
       "0   128381     4704  1654030804\n",
       "1   146885     1399  1654030816\n",
       "2    50948     2315  1654030828\n",
       "3    14661      673  1654030831\n",
       "4    37703     1588  1654030833"
      ]
     },
     "execution_count": 3,
     "metadata": {},
     "output_type": "execute_result"
    }
   ],
   "source": [
    "likes.head()"
   ]
  },
  {
   "cell_type": "code",
   "execution_count": 4,
   "id": "23aa09f8-9039-43a4-a99d-15d035bfcbe2",
   "metadata": {},
   "outputs": [
    {
     "data": {
      "text/html": [
       "<div>\n",
       "<style scoped>\n",
       "    .dataframe tbody tr th:only-of-type {\n",
       "        vertical-align: middle;\n",
       "    }\n",
       "\n",
       "    .dataframe tbody tr th {\n",
       "        vertical-align: top;\n",
       "    }\n",
       "\n",
       "    .dataframe thead th {\n",
       "        text-align: right;\n",
       "    }\n",
       "</style>\n",
       "<table border=\"1\" class=\"dataframe\">\n",
       "  <thead>\n",
       "    <tr style=\"text-align: right;\">\n",
       "      <th></th>\n",
       "      <th>user_id</th>\n",
       "      <th>exp_group</th>\n",
       "      <th>recommendations</th>\n",
       "      <th>timestamp</th>\n",
       "    </tr>\n",
       "  </thead>\n",
       "  <tbody>\n",
       "    <tr>\n",
       "      <th>0</th>\n",
       "      <td>128381</td>\n",
       "      <td>control</td>\n",
       "      <td>[3644 4529 4704 5294 4808]</td>\n",
       "      <td>1654030803</td>\n",
       "    </tr>\n",
       "    <tr>\n",
       "      <th>1</th>\n",
       "      <td>146885</td>\n",
       "      <td>test</td>\n",
       "      <td>[1399 1076  797 7015 5942]</td>\n",
       "      <td>1654030811</td>\n",
       "    </tr>\n",
       "    <tr>\n",
       "      <th>2</th>\n",
       "      <td>50948</td>\n",
       "      <td>test</td>\n",
       "      <td>[2315 3037 1861 6567 4093]</td>\n",
       "      <td>1654030825</td>\n",
       "    </tr>\n",
       "    <tr>\n",
       "      <th>3</th>\n",
       "      <td>37703</td>\n",
       "      <td>test</td>\n",
       "      <td>[2842 1949  162 1588 6794]</td>\n",
       "      <td>1654030826</td>\n",
       "    </tr>\n",
       "    <tr>\n",
       "      <th>4</th>\n",
       "      <td>14661</td>\n",
       "      <td>test</td>\n",
       "      <td>[2395 5881 5648 3417  673]</td>\n",
       "      <td>1654030829</td>\n",
       "    </tr>\n",
       "  </tbody>\n",
       "</table>\n",
       "</div>"
      ],
      "text/plain": [
       "   user_id exp_group             recommendations   timestamp\n",
       "0   128381   control  [3644 4529 4704 5294 4808]  1654030803\n",
       "1   146885      test  [1399 1076  797 7015 5942]  1654030811\n",
       "2    50948      test  [2315 3037 1861 6567 4093]  1654030825\n",
       "3    37703      test  [2842 1949  162 1588 6794]  1654030826\n",
       "4    14661      test  [2395 5881 5648 3417  673]  1654030829"
      ]
     },
     "execution_count": 4,
     "metadata": {},
     "output_type": "execute_result"
    }
   ],
   "source": [
    "views.head()"
   ]
  },
  {
   "cell_type": "markdown",
   "id": "d72030ad-375f-415a-8bc1-beaff16a4478",
   "metadata": {},
   "source": [
    "### Найдем и удалим пользователей, которые попали сразу в две группы"
   ]
  },
  {
   "cell_type": "code",
   "execution_count": 5,
   "id": "65483e92-e0e7-4c9f-ae05-b1dc3f56eca7",
   "metadata": {},
   "outputs": [],
   "source": [
    "bad_users = views[views['exp_group']=='control'].merge(views[views['exp_group']=='test'], on='user_id')['user_id'].unique()"
   ]
  },
  {
   "cell_type": "code",
   "execution_count": 6,
   "id": "49c01da3-0258-4381-afd0-fce703b73438",
   "metadata": {},
   "outputs": [],
   "source": [
    "for user in bad_users:\n",
    "    idx = views[views['user_id'] == user].index\n",
    "    views = views.drop(idx, axis=0)"
   ]
  },
  {
   "cell_type": "markdown",
   "id": "4ad88bf3-f547-4599-a31d-2a07a7ecfb88",
   "metadata": {},
   "source": [
    "### Проверим на равенство размеров групп"
   ]
  },
  {
   "cell_type": "code",
   "execution_count": 7,
   "id": "71dace5a-3d00-4be9-b8cc-e8a7c7706169",
   "metadata": {},
   "outputs": [
    {
     "name": "stdout",
     "output_type": "stream",
     "text": [
      "[96898, 96370]\n"
     ]
    },
    {
     "data": {
      "text/plain": [
       "BinomTestResult(k=96898, n=193268, alternative='two-sided', statistic=0.5013659788480245, pvalue=0.23062291448605168)"
      ]
     },
     "execution_count": 7,
     "metadata": {},
     "output_type": "execute_result"
    }
   ],
   "source": [
    "from scipy.stats import binomtest\n",
    "bins = views['exp_group'].value_counts().tolist()\n",
    "print(bins)\n",
    "binomtest(bins[0], bins[0]+bins[1])"
   ]
  },
  {
   "cell_type": "markdown",
   "id": "db418173-7de5-4cb3-a9dd-9ed8e8e37437",
   "metadata": {},
   "source": [
    "### Доля пользователей, которая сделала хотя бы один лайк за время эксперимента"
   ]
  },
  {
   "cell_type": "code",
   "execution_count": 8,
   "id": "8e10b5f7-6dcd-43c3-9595-b97938b0c872",
   "metadata": {},
   "outputs": [],
   "source": [
    "users = views.groupby('user_id').agg({'exp_group': 'max'}).reset_index()"
   ]
  },
  {
   "cell_type": "code",
   "execution_count": 9,
   "id": "826e01f7-e336-42ca-9590-100d8cc0eed0",
   "metadata": {},
   "outputs": [],
   "source": [
    "users = users.merge(likes.groupby('user_id').agg({'post_id': 'count'}).reset_index().rename(columns={'post_id': 'likes'}), how='left', on='user_id')"
   ]
  },
  {
   "cell_type": "code",
   "execution_count": 10,
   "id": "67abf750-da34-4d6f-9d35-67e81c4c17ca",
   "metadata": {},
   "outputs": [
    {
     "name": "stdout",
     "output_type": "stream",
     "text": [
      "89.5%\n"
     ]
    }
   ],
   "source": [
    "print(f'{((users[\"likes\"] > 0).value_counts()[0] / users[\"likes\"].shape[0]).round(3)*100}%')"
   ]
  },
  {
   "cell_type": "markdown",
   "id": "714d77c5-4b18-4579-8463-c1a1514e8d35",
   "metadata": {},
   "source": [
    "### Оценим, различаются ли число лайков между группами"
   ]
  },
  {
   "cell_type": "code",
   "execution_count": 11,
   "id": "8da7924a-350d-4a95-9bcf-969166376a31",
   "metadata": {},
   "outputs": [],
   "source": [
    "users['likes'] = users['likes'].fillna(0)"
   ]
  },
  {
   "cell_type": "code",
   "execution_count": 12,
   "id": "1532eeee-f84d-4c3a-9dfc-06f33f0808c8",
   "metadata": {},
   "outputs": [
    {
     "name": "stdout",
     "output_type": "stream",
     "text": [
      "MannwhitneyuResult(statistic=518358073.0, pvalue=2.9585062792441964e-05)\n"
     ]
    }
   ],
   "source": [
    "from scipy.stats import mannwhitneyu\n",
    "res = mannwhitneyu(users[users['exp_group']=='control']['likes'], users[users['exp_group']=='test']['likes'])\n",
    "print(res)"
   ]
  },
  {
   "cell_type": "code",
   "execution_count": 13,
   "id": "9312b5f1-60e9-4b3e-bb52-9ddbb5c0caf7",
   "metadata": {},
   "outputs": [
    {
     "data": {
      "text/plain": [
       "(-2.844158090303926, 0.004452894813985724)"
      ]
     },
     "execution_count": 13,
     "metadata": {},
     "output_type": "execute_result"
    }
   ],
   "source": [
    "from statsmodels.stats.weightstats import ztest\n",
    "ztest(users[(users['exp_group']=='control')]['likes']>0, users[(users['exp_group']=='test')]['likes']>0)"
   ]
  },
  {
   "cell_type": "markdown",
   "id": "35fe26c8-075e-411a-86e8-0e02d1009518",
   "metadata": {},
   "source": [
    "### Посчитаем общий hitrate"
   ]
  },
  {
   "cell_type": "code",
   "execution_count": 14,
   "id": "996b3ee5-8f9e-4d9a-859f-f94885a748cb",
   "metadata": {},
   "outputs": [],
   "source": [
    "df = views.merge(likes, on='user_id')\n",
    "df['like'] = 1"
   ]
  },
  {
   "cell_type": "code",
   "execution_count": 15,
   "id": "d967d634-cfe9-48ac-87e7-81b8b5f19e17",
   "metadata": {},
   "outputs": [],
   "source": [
    "df = df[df['timestamp_x'] < df['timestamp_y']]"
   ]
  },
  {
   "cell_type": "code",
   "execution_count": 16,
   "id": "635f6183-31a1-4142-a432-e20d510f3c50",
   "metadata": {},
   "outputs": [],
   "source": [
    "hour = 60*60\n",
    "df = df[df['timestamp_y'] - df['timestamp_x'] < hour]"
   ]
  },
  {
   "cell_type": "code",
   "execution_count": 17,
   "id": "e885d458-7db4-4123-8a2a-4c63e0cf7183",
   "metadata": {},
   "outputs": [],
   "source": [
    "df.loc[df['timestamp_y'] - df['timestamp_x'] > hour, 'like'] = 0"
   ]
  },
  {
   "cell_type": "code",
   "execution_count": 18,
   "id": "39387817-4f92-42a8-a4c6-1e5bccfaf730",
   "metadata": {},
   "outputs": [],
   "source": [
    "df['post_id'] = df['post_id'].astype('str')"
   ]
  },
  {
   "cell_type": "code",
   "execution_count": 19,
   "id": "03ddf28a-25fc-4394-a3b3-e95e8a4fd086",
   "metadata": {},
   "outputs": [],
   "source": [
    "df = df[df.apply(lambda row: row['post_id'] in row['recommendations'], axis=1)]"
   ]
  },
  {
   "cell_type": "code",
   "execution_count": 20,
   "id": "d2ba760f-eb2a-405b-8b7a-e6f06d267e1d",
   "metadata": {},
   "outputs": [
    {
     "data": {
      "text/html": [
       "<div>\n",
       "<style scoped>\n",
       "    .dataframe tbody tr th:only-of-type {\n",
       "        vertical-align: middle;\n",
       "    }\n",
       "\n",
       "    .dataframe tbody tr th {\n",
       "        vertical-align: top;\n",
       "    }\n",
       "\n",
       "    .dataframe thead th {\n",
       "        text-align: right;\n",
       "    }\n",
       "</style>\n",
       "<table border=\"1\" class=\"dataframe\">\n",
       "  <thead>\n",
       "    <tr style=\"text-align: right;\">\n",
       "      <th></th>\n",
       "      <th>user_id</th>\n",
       "      <th>exp_group</th>\n",
       "      <th>recommendations</th>\n",
       "      <th>timestamp_x</th>\n",
       "      <th>post_id</th>\n",
       "      <th>timestamp_y</th>\n",
       "      <th>like</th>\n",
       "    </tr>\n",
       "  </thead>\n",
       "  <tbody>\n",
       "    <tr>\n",
       "      <th>0</th>\n",
       "      <td>128381</td>\n",
       "      <td>control</td>\n",
       "      <td>[3644 4529 4704 5294 4808]</td>\n",
       "      <td>1654030803</td>\n",
       "      <td>4704</td>\n",
       "      <td>1654030804</td>\n",
       "      <td>1</td>\n",
       "    </tr>\n",
       "    <tr>\n",
       "      <th>1</th>\n",
       "      <td>128381</td>\n",
       "      <td>control</td>\n",
       "      <td>[3644 4529 4704 5294 4808]</td>\n",
       "      <td>1654030803</td>\n",
       "      <td>5294</td>\n",
       "      <td>1654030838</td>\n",
       "      <td>1</td>\n",
       "    </tr>\n",
       "    <tr>\n",
       "      <th>16</th>\n",
       "      <td>128381</td>\n",
       "      <td>control</td>\n",
       "      <td>[3029 3608 2542 4165 3490]</td>\n",
       "      <td>1655049326</td>\n",
       "      <td>3608</td>\n",
       "      <td>1655049327</td>\n",
       "      <td>1</td>\n",
       "    </tr>\n",
       "    <tr>\n",
       "      <th>17</th>\n",
       "      <td>128381</td>\n",
       "      <td>control</td>\n",
       "      <td>[3029 3608 2542 4165 3490]</td>\n",
       "      <td>1655049326</td>\n",
       "      <td>2542</td>\n",
       "      <td>1655049342</td>\n",
       "      <td>1</td>\n",
       "    </tr>\n",
       "    <tr>\n",
       "      <th>18</th>\n",
       "      <td>128381</td>\n",
       "      <td>control</td>\n",
       "      <td>[3029 3608 2542 4165 3490]</td>\n",
       "      <td>1655049326</td>\n",
       "      <td>4165</td>\n",
       "      <td>1655052806</td>\n",
       "      <td>1</td>\n",
       "    </tr>\n",
       "    <tr>\n",
       "      <th>...</th>\n",
       "      <td>...</td>\n",
       "      <td>...</td>\n",
       "      <td>...</td>\n",
       "      <td>...</td>\n",
       "      <td>...</td>\n",
       "      <td>...</td>\n",
       "      <td>...</td>\n",
       "    </tr>\n",
       "    <tr>\n",
       "      <th>1006353</th>\n",
       "      <td>80500</td>\n",
       "      <td>test</td>\n",
       "      <td>[1588 4629 1457 3691 1688]</td>\n",
       "      <td>1655240212</td>\n",
       "      <td>4629</td>\n",
       "      <td>1655240282</td>\n",
       "      <td>1</td>\n",
       "    </tr>\n",
       "    <tr>\n",
       "      <th>1006354</th>\n",
       "      <td>149686</td>\n",
       "      <td>test</td>\n",
       "      <td>[3203 6437 3681 2678 1629]</td>\n",
       "      <td>1655240216</td>\n",
       "      <td>2678</td>\n",
       "      <td>1655240218</td>\n",
       "      <td>1</td>\n",
       "    </tr>\n",
       "    <tr>\n",
       "      <th>1006355</th>\n",
       "      <td>3615</td>\n",
       "      <td>control</td>\n",
       "      <td>[1578 6326  906 2833  993]</td>\n",
       "      <td>1655240322</td>\n",
       "      <td>1578</td>\n",
       "      <td>1655242450</td>\n",
       "      <td>1</td>\n",
       "    </tr>\n",
       "    <tr>\n",
       "      <th>1006356</th>\n",
       "      <td>119630</td>\n",
       "      <td>test</td>\n",
       "      <td>[3143  599 4588 1577 7077]</td>\n",
       "      <td>1655240337</td>\n",
       "      <td>599</td>\n",
       "      <td>1655240367</td>\n",
       "      <td>1</td>\n",
       "    </tr>\n",
       "    <tr>\n",
       "      <th>1006357</th>\n",
       "      <td>142402</td>\n",
       "      <td>test</td>\n",
       "      <td>[5895 6984 1978 6548 6106]</td>\n",
       "      <td>1655240373</td>\n",
       "      <td>6548</td>\n",
       "      <td>1655240374</td>\n",
       "      <td>1</td>\n",
       "    </tr>\n",
       "  </tbody>\n",
       "</table>\n",
       "<p>230150 rows × 7 columns</p>\n",
       "</div>"
      ],
      "text/plain": [
       "         user_id exp_group             recommendations  timestamp_x post_id  \\\n",
       "0         128381   control  [3644 4529 4704 5294 4808]   1654030803    4704   \n",
       "1         128381   control  [3644 4529 4704 5294 4808]   1654030803    5294   \n",
       "16        128381   control  [3029 3608 2542 4165 3490]   1655049326    3608   \n",
       "17        128381   control  [3029 3608 2542 4165 3490]   1655049326    2542   \n",
       "18        128381   control  [3029 3608 2542 4165 3490]   1655049326    4165   \n",
       "...          ...       ...                         ...          ...     ...   \n",
       "1006353    80500      test  [1588 4629 1457 3691 1688]   1655240212    4629   \n",
       "1006354   149686      test  [3203 6437 3681 2678 1629]   1655240216    2678   \n",
       "1006355     3615   control  [1578 6326  906 2833  993]   1655240322    1578   \n",
       "1006356   119630      test  [3143  599 4588 1577 7077]   1655240337     599   \n",
       "1006357   142402      test  [5895 6984 1978 6548 6106]   1655240373    6548   \n",
       "\n",
       "         timestamp_y  like  \n",
       "0         1654030804     1  \n",
       "1         1654030838     1  \n",
       "16        1655049327     1  \n",
       "17        1655049342     1  \n",
       "18        1655052806     1  \n",
       "...              ...   ...  \n",
       "1006353   1655240282     1  \n",
       "1006354   1655240218     1  \n",
       "1006355   1655242450     1  \n",
       "1006356   1655240367     1  \n",
       "1006357   1655240374     1  \n",
       "\n",
       "[230150 rows x 7 columns]"
      ]
     },
     "execution_count": 20,
     "metadata": {},
     "output_type": "execute_result"
    }
   ],
   "source": [
    "df"
   ]
  },
  {
   "cell_type": "code",
   "execution_count": 21,
   "id": "ee4f7fa3-f99c-4e53-bc7e-ba785c2ddf7c",
   "metadata": {},
   "outputs": [],
   "source": [
    "recs = df.groupby('recommendations').agg({'like': 'sum', 'exp_group': 'max'}).reset_index()"
   ]
  },
  {
   "cell_type": "code",
   "execution_count": 22,
   "id": "4d5cbbab-3f74-4f05-bde4-3a29534b6821",
   "metadata": {},
   "outputs": [
    {
     "data": {
      "text/html": [
       "<div>\n",
       "<style scoped>\n",
       "    .dataframe tbody tr th:only-of-type {\n",
       "        vertical-align: middle;\n",
       "    }\n",
       "\n",
       "    .dataframe tbody tr th {\n",
       "        vertical-align: top;\n",
       "    }\n",
       "\n",
       "    .dataframe thead th {\n",
       "        text-align: right;\n",
       "    }\n",
       "</style>\n",
       "<table border=\"1\" class=\"dataframe\">\n",
       "  <thead>\n",
       "    <tr style=\"text-align: right;\">\n",
       "      <th></th>\n",
       "      <th>recommendations</th>\n",
       "      <th>like</th>\n",
       "      <th>exp_group</th>\n",
       "    </tr>\n",
       "  </thead>\n",
       "  <tbody>\n",
       "    <tr>\n",
       "      <th>0</th>\n",
       "      <td>[   1    3 6222 4264 3634]</td>\n",
       "      <td>2</td>\n",
       "      <td>control</td>\n",
       "    </tr>\n",
       "    <tr>\n",
       "      <th>1</th>\n",
       "      <td>[   1  321 3584 2533 4046]</td>\n",
       "      <td>2</td>\n",
       "      <td>control</td>\n",
       "    </tr>\n",
       "    <tr>\n",
       "      <th>2</th>\n",
       "      <td>[   1  590 2678 5482 1040]</td>\n",
       "      <td>1</td>\n",
       "      <td>test</td>\n",
       "    </tr>\n",
       "  </tbody>\n",
       "</table>\n",
       "</div>"
      ],
      "text/plain": [
       "              recommendations  like exp_group\n",
       "0  [   1    3 6222 4264 3634]     2   control\n",
       "1  [   1  321 3584 2533 4046]     2   control\n",
       "2  [   1  590 2678 5482 1040]     1      test"
      ]
     },
     "execution_count": 22,
     "metadata": {},
     "output_type": "execute_result"
    }
   ],
   "source": [
    "recs.head(3)"
   ]
  },
  {
   "cell_type": "code",
   "execution_count": 23,
   "id": "d99f4c6d-ee76-4834-aabb-208ce64caf5b",
   "metadata": {},
   "outputs": [],
   "source": [
    "recs_no_like = pd.DataFrame(views[['recommendations', 'exp_group']][~views['recommendations'].isin(recs['recommendations'])])\n",
    "recs_no_like['like'] = 0"
   ]
  },
  {
   "cell_type": "code",
   "execution_count": 24,
   "id": "90046576-1cf5-4fc4-ad0b-bf3b04f570ed",
   "metadata": {},
   "outputs": [
    {
     "data": {
      "text/html": [
       "<div>\n",
       "<style scoped>\n",
       "    .dataframe tbody tr th:only-of-type {\n",
       "        vertical-align: middle;\n",
       "    }\n",
       "\n",
       "    .dataframe tbody tr th {\n",
       "        vertical-align: top;\n",
       "    }\n",
       "\n",
       "    .dataframe thead th {\n",
       "        text-align: right;\n",
       "    }\n",
       "</style>\n",
       "<table border=\"1\" class=\"dataframe\">\n",
       "  <thead>\n",
       "    <tr style=\"text-align: right;\">\n",
       "      <th></th>\n",
       "      <th>recommendations</th>\n",
       "      <th>exp_group</th>\n",
       "      <th>like</th>\n",
       "    </tr>\n",
       "  </thead>\n",
       "  <tbody>\n",
       "    <tr>\n",
       "      <th>7</th>\n",
       "      <td>[3837 6786  998 2122 7083]</td>\n",
       "      <td>test</td>\n",
       "      <td>0</td>\n",
       "    </tr>\n",
       "    <tr>\n",
       "      <th>8</th>\n",
       "      <td>[5726 1821 2380 1459 5415]</td>\n",
       "      <td>test</td>\n",
       "      <td>0</td>\n",
       "    </tr>\n",
       "    <tr>\n",
       "      <th>10</th>\n",
       "      <td>[4889 3374 1344 6754 2419]</td>\n",
       "      <td>control</td>\n",
       "      <td>0</td>\n",
       "    </tr>\n",
       "  </tbody>\n",
       "</table>\n",
       "</div>"
      ],
      "text/plain": [
       "               recommendations exp_group  like\n",
       "7   [3837 6786  998 2122 7083]      test     0\n",
       "8   [5726 1821 2380 1459 5415]      test     0\n",
       "10  [4889 3374 1344 6754 2419]   control     0"
      ]
     },
     "execution_count": 24,
     "metadata": {},
     "output_type": "execute_result"
    }
   ],
   "source": [
    "recs_no_like.head(3)"
   ]
  },
  {
   "cell_type": "code",
   "execution_count": 25,
   "id": "afac4b13-a82a-40d5-bee9-7d7b22fecff6",
   "metadata": {},
   "outputs": [],
   "source": [
    "data = pd.concat([recs, recs_no_like])"
   ]
  },
  {
   "cell_type": "code",
   "execution_count": 26,
   "id": "68ebe075-97c2-4803-b149-cb65c57dbae0",
   "metadata": {},
   "outputs": [
    {
     "name": "stdout",
     "output_type": "stream",
     "text": [
      "общий hitrate по всем юзерам: 0.71\n"
     ]
    }
   ],
   "source": [
    "print(f'общий hitrate по всем юзерам: {(data[\"like\"]>0).value_counts(normalize=True)[0].round(2)}')"
   ]
  },
  {
   "cell_type": "markdown",
   "id": "9c183658-912a-4b5d-af84-041a6c3970ef",
   "metadata": {},
   "source": [
    "### Сравним hitrate в двух группах"
   ]
  },
  {
   "cell_type": "code",
   "execution_count": 27,
   "id": "3b755dc0-b198-44b0-b21c-4ca4218ad855",
   "metadata": {},
   "outputs": [],
   "source": [
    "import hashlib\n",
    "\n",
    "data['bucket'] = data['recommendations'].apply(\n",
    "    lambda x: int(hashlib.md5((str(x) + 'hitrate_salt').encode()).hexdigest(), 16) % 100\n",
    ") "
   ]
  },
  {
   "cell_type": "code",
   "execution_count": 28,
   "id": "98358108-5e0a-4c97-989a-082297ac26c7",
   "metadata": {},
   "outputs": [],
   "source": [
    "data.loc[data['like'] != 0, 'like'] = 1"
   ]
  },
  {
   "cell_type": "code",
   "execution_count": 29,
   "id": "1f9d0a6f-5a5d-4420-8d1e-dc5d4911999f",
   "metadata": {},
   "outputs": [],
   "source": [
    "bucket_data = data.groupby(['exp_group', 'bucket']).agg({'like': 'mean'}).reset_index()"
   ]
  },
  {
   "cell_type": "code",
   "execution_count": 30,
   "id": "887b2127-a156-4687-9eb3-8798effc5718",
   "metadata": {},
   "outputs": [
    {
     "data": {
      "text/plain": [
       "MannwhitneyuResult(statistic=2595.5, pvalue=4.256198788175318e-09)"
      ]
     },
     "execution_count": 30,
     "metadata": {},
     "output_type": "execute_result"
    }
   ],
   "source": [
    "mannwhitneyu(bucket_data[bucket_data['exp_group']=='control']['like'], bucket_data[bucket_data['exp_group']=='test']['like'])"
   ]
  },
  {
   "cell_type": "code",
   "execution_count": 31,
   "id": "8e1e2562-3d38-474d-a506-f83222be8a1a",
   "metadata": {},
   "outputs": [
    {
     "data": {
      "text/html": [
       "<div>\n",
       "<style scoped>\n",
       "    .dataframe tbody tr th:only-of-type {\n",
       "        vertical-align: middle;\n",
       "    }\n",
       "\n",
       "    .dataframe tbody tr th {\n",
       "        vertical-align: top;\n",
       "    }\n",
       "\n",
       "    .dataframe thead th {\n",
       "        text-align: right;\n",
       "    }\n",
       "</style>\n",
       "<table border=\"1\" class=\"dataframe\">\n",
       "  <thead>\n",
       "    <tr style=\"text-align: right;\">\n",
       "      <th></th>\n",
       "      <th>exp_group</th>\n",
       "      <th>hitrate</th>\n",
       "    </tr>\n",
       "  </thead>\n",
       "  <tbody>\n",
       "    <tr>\n",
       "      <th>0</th>\n",
       "      <td>control</td>\n",
       "      <td>0.706651</td>\n",
       "    </tr>\n",
       "    <tr>\n",
       "      <th>1</th>\n",
       "      <td>test</td>\n",
       "      <td>0.719839</td>\n",
       "    </tr>\n",
       "  </tbody>\n",
       "</table>\n",
       "</div>"
      ],
      "text/plain": [
       "  exp_group   hitrate\n",
       "0   control  0.706651\n",
       "1      test  0.719839"
      ]
     },
     "execution_count": 31,
     "metadata": {},
     "output_type": "execute_result"
    }
   ],
   "source": [
    "data.groupby('exp_group').agg({'like': 'mean'}).reset_index().rename(columns={'like': 'hitrate'})"
   ]
  },
  {
   "cell_type": "markdown",
   "id": "9d156a02-7738-4226-b2dd-e4141236932f",
   "metadata": {},
   "source": [
    "## Вывод: В тестовой группе hitrate выше на 1 п.п. (до бакетирования), есть статистически значимая разница"
   ]
  }
 ],
 "metadata": {
  "kernelspec": {
   "display_name": "Python 3 (ipykernel)",
   "language": "python",
   "name": "python3"
  },
  "language_info": {
   "codemirror_mode": {
    "name": "ipython",
    "version": 3
   },
   "file_extension": ".py",
   "mimetype": "text/x-python",
   "name": "python",
   "nbconvert_exporter": "python",
   "pygments_lexer": "ipython3",
   "version": "3.11.7"
  }
 },
 "nbformat": 4,
 "nbformat_minor": 5
}
